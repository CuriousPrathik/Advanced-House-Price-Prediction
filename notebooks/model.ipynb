{
 "cells": [
  {
   "attachments": {},
   "cell_type": "markdown",
   "metadata": {},
   "source": [
    "# Model Training"
   ]
  },
  {
   "cell_type": "code",
   "execution_count": 1,
   "metadata": {},
   "outputs": [],
   "source": [
    "# Import necessary libraries\n",
    "\n",
    "import pandas as pd\n",
    "import numpy as np\n",
    "\n",
    "from sklearn.linear_model import LinearRegression, Lasso, Ridge\n",
    "from sklearn.tree import DecisionTreeRegressor\n",
    "from sklearn.ensemble import RandomForestRegressor, GradientBoostingRegressor, AdaBoostRegressor, BaggingRegressor\n",
    "from sklearn.svm import SVR\n",
    "from sklearn.neighbors import KNeighborsRegressor\n",
    "from sklearn.naive_bayes import GaussianNB\n",
    "from sklearn.neural_network import MLPRegressor\n",
    "from sklearn.model_selection import train_test_split\n",
    "from sklearn.metrics import mean_squared_error, mean_absolute_error, r2_score\n",
    "\n",
    "# Display all the columns of the dataframe\n",
    "\n",
    "pd.pandas.set_option('display.max_columns',None)"
   ]
  },
  {
   "cell_type": "code",
   "execution_count": 2,
   "metadata": {},
   "outputs": [],
   "source": [
    "# load the data\n",
    "\n",
    "# Set the path to the raw data folder\n",
    "processed_data_path = 'C:\\\\Users\\\\prath\\\\Advanced-House-Price-Prediction\\\\data\\\\proccessed\\\\'\n",
    "\n",
    "\n",
    "# Load the train.csv file into a pandas DataFrame\n",
    "x_train = pd.read_csv(processed_data_path + 'x_train.csv')\n",
    "y_train = pd.read_csv(processed_data_path + 'y_train.csv')\n",
    "x_test = pd.read_csv(processed_data_path + 'x_test.csv')"
   ]
  },
  {
   "cell_type": "code",
   "execution_count": 3,
   "metadata": {},
   "outputs": [
    {
     "name": "stdout",
     "output_type": "stream",
     "text": [
      "Training set shape: (1168, 21)\n",
      "Validation set shape: (292, 21)\n"
     ]
    }
   ],
   "source": [
    "# Split the training set into training and validation sets\n",
    "x_train, X_val, y_train, y_val = train_test_split(x_train, y_train, test_size=0.2, random_state=42)\n",
    "\n",
    "# Print the shapes of the training, validation, and testing sets\n",
    "print(f'Training set shape: {x_train.shape}')\n",
    "print(f'Validation set shape: {X_val.shape}')\n"
   ]
  },
  {
   "cell_type": "code",
   "execution_count": 4,
   "metadata": {},
   "outputs": [],
   "source": [
    "# Initialize the models\n",
    "lr = LinearRegression()\n",
    "dt = DecisionTreeRegressor()\n",
    "rf = RandomForestRegressor()\n",
    "gb = GradientBoostingRegressor()\n",
    "svm = SVR()\n",
    "knn = KNeighborsRegressor()\n",
    "nb = GaussianNB()\n",
    "mlp = MLPRegressor()\n",
    "lasso = Lasso(random_state=42)\n",
    "ridge = Ridge(random_state=42)"
   ]
  },
  {
   "cell_type": "code",
   "execution_count": 6,
   "metadata": {},
   "outputs": [
    {
     "name": "stdout",
     "output_type": "stream",
     "text": [
      "LinearRegression Train MSE: 0.0180 | Validation MSE: 0.0192 | Train MAE: 0.0941 | Validation MAE: 0.0985 | Train R2 Score: 0.8822 | Validation R2 Score: 0.8971 | Train RMSE: 0.1340 | Validation RMSE: 0.1386\n",
      "Lasso Train MSE: 0.1524 | Validation MSE: 0.1877 | Train MAE: 0.3034 | Validation MAE: 0.3371 | Train R2 Score: 0.0000 | Validation R2 Score: -0.0058 | Train RMSE: 0.3904 | Validation RMSE: 0.4332\n",
      "Ridge Train MSE: 0.0181 | Validation MSE: 0.0194 | Train MAE: 0.0944 | Validation MAE: 0.0986 | Train R2 Score: 0.8816 | Validation R2 Score: 0.8960 | Train RMSE: 0.1344 | Validation RMSE: 0.1393\n",
      "DecisionTreeRegressor Train MSE: 0.0000 | Validation MSE: 0.0406 | Train MAE: 0.0001 | Validation MAE: 0.1424 | Train R2 Score: 1.0000 | Validation R2 Score: 0.7823 | Train RMSE: 0.0024 | Validation RMSE: 0.2016\n"
     ]
    },
    {
     "name": "stderr",
     "output_type": "stream",
     "text": [
      "C:\\Users\\prath\\AppData\\Local\\Temp\\ipykernel_86416\\2989721124.py:8: DataConversionWarning: A column-vector y was passed when a 1d array was expected. Please change the shape of y to (n_samples,), for example using ravel().\n",
      "  model.fit(x_train, y_train)\n"
     ]
    },
    {
     "name": "stdout",
     "output_type": "stream",
     "text": [
      "RandomForestRegressor Train MSE: 0.0029 | Validation MSE: 0.0197 | Train MAE: 0.0370 | Validation MAE: 0.0946 | Train R2 Score: 0.9812 | Validation R2 Score: 0.8943 | Train RMSE: 0.0535 | Validation RMSE: 0.1405\n"
     ]
    },
    {
     "name": "stderr",
     "output_type": "stream",
     "text": [
      "c:\\Users\\prath\\anaconda3\\lib\\site-packages\\sklearn\\ensemble\\_gb.py:494: DataConversionWarning: A column-vector y was passed when a 1d array was expected. Please change the shape of y to (n_samples, ), for example using ravel().\n",
      "  y = column_or_1d(y, warn=True)\n"
     ]
    },
    {
     "name": "stdout",
     "output_type": "stream",
     "text": [
      "GradientBoostingRegressor Train MSE: 0.0087 | Validation MSE: 0.0186 | Train MAE: 0.0694 | Validation MAE: 0.0953 | Train R2 Score: 0.9429 | Validation R2 Score: 0.9003 | Train RMSE: 0.0933 | Validation RMSE: 0.1364\n"
     ]
    },
    {
     "name": "stderr",
     "output_type": "stream",
     "text": [
      "c:\\Users\\prath\\anaconda3\\lib\\site-packages\\sklearn\\utils\\validation.py:993: DataConversionWarning: A column-vector y was passed when a 1d array was expected. Please change the shape of y to (n_samples, ), for example using ravel().\n",
      "  y = column_or_1d(y, warn=True)\n"
     ]
    },
    {
     "name": "stdout",
     "output_type": "stream",
     "text": [
      "SVR Train MSE: 0.0107 | Validation MSE: 0.0211 | Train MAE: 0.0776 | Validation MAE: 0.1001 | Train R2 Score: 0.9296 | Validation R2 Score: 0.8871 | Train RMSE: 0.1036 | Validation RMSE: 0.1451\n",
      "KNeighborsRegressor Train MSE: 0.0213 | Validation MSE: 0.0353 | Train MAE: 0.1057 | Validation MAE: 0.1323 | Train R2 Score: 0.8600 | Validation R2 Score: 0.8106 | Train RMSE: 0.1461 | Validation RMSE: 0.1880\n"
     ]
    }
   ],
   "source": [
    "import pickle\n",
    "\n",
    "# Train and evaluate the models\n",
    "models = [lr,lasso,ridge, dt, rf, gb, svm, knn]\n",
    "model_names = ['linear_regression', 'lasso', 'ridge', 'decision_tree', 'random_forest', 'gradient_boosting', 'svm', 'knn']\n",
    "\n",
    "for model, name in zip(models, model_names):\n",
    "    model.fit(x_train, y_train)\n",
    "    \n",
    "    # predict train data \n",
    "    y_train_pred = model.predict(x_train)\n",
    "\n",
    "    # predict validation data\n",
    "    y_val_pred = model.predict(X_val)\n",
    "\n",
    "    # evaluation metrics for train data\n",
    "    train_mse = mean_squared_error(y_train, y_train_pred)\n",
    "    train_mae = mean_absolute_error(y_train,y_train_pred)\n",
    "    train_r2 = r2_score(y_train,y_train_pred)\n",
    "    train_rmse = np.sqrt(train_mse)\n",
    "\n",
    "    # evaluation metrics for validation data\n",
    "    val_mse = mean_squared_error(y_val, y_val_pred)\n",
    "    val_mae = mean_absolute_error(y_val, y_val_pred)\n",
    "    val_r2 = r2_score(y_val, y_val_pred)\n",
    "    val_rmse = np.sqrt(val_mse)\n",
    "\n",
    "    # print all\n",
    "    print(f'{model.__class__.__name__} Train MSE: {train_mse:.4f} | Validation MSE: {val_mse:.4f} | Train MAE: {train_mae:.4f} | Validation MAE: {val_mae:.4f} | Train R2 Score: {train_r2:.4f} | Validation R2 Score: {val_r2:.4f} | Train RMSE: {train_rmse:.4f} | Validation RMSE: {val_rmse:.4f}')\n",
    "\n",
    "    # save the trained model as a pickle file\n",
    "    with open(f'{name}.pickle', 'wb') as f:\n",
    "        pickle.dump(model, f)\n"
   ]
  },
  {
   "attachments": {},
   "cell_type": "markdown",
   "metadata": {},
   "source": [
    "**Models and their corresponding evaluation metrics**\n",
    "\n",
    "- Linear Regression: Train R2 Score: 0.8822 | Validation R2 Score: 0.8971\n",
    "- Lasso: Train R2 Score: 0.0000 | Validation R2 Score: -0.0058\n",
    "- Ridge: Train R2 Score: 0.8816 | Validation R2 Score: 0.8960\n",
    "- Decision Tree Regressor: Train R2 Score: 1.0000 | Validation R2 Score: 0.7805\n",
    "- Random Forest Regressor: Train R2 Score: 0.9801 | Validation R2 Score: 0.8932\n",
    "- Gradient Boosting Regressor: Train R2 Score: 0.9429 | Validation R2 Score: 0.9004\n",
    "- Support Vector Regressor: Train R2 Score: 0.9296 | Validation R2 Score: 0.8871\n",
    "- K-Neighbors Regressor: Train R2 Score: 0.8600 | Validation R2 Score: 0.8106"
   ]
  }
 ],
 "metadata": {
  "kernelspec": {
   "display_name": "base",
   "language": "python",
   "name": "python3"
  },
  "language_info": {
   "codemirror_mode": {
    "name": "ipython",
    "version": 3
   },
   "file_extension": ".py",
   "mimetype": "text/x-python",
   "name": "python",
   "nbconvert_exporter": "python",
   "pygments_lexer": "ipython3",
   "version": "3.9.12"
  },
  "orig_nbformat": 4
 },
 "nbformat": 4,
 "nbformat_minor": 2
}
